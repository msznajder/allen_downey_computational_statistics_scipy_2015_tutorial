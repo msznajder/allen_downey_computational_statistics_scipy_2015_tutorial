{
 "cells": [
  {
   "cell_type": "markdown",
   "metadata": {},
   "source": [
    "# Intro\n",
    "\n",
    "## Statistical inference \n",
    "Using data from a sample to infer information about a population.\n",
    "\n",
    "## Example 1\n",
    "In a district of 10000 voters, we polled 100 people. 53 said they plan to vote for X, 40 said Y and 7 were undecided.\n",
    "\n",
    "What is our best estimate of fraction of people in the population who are going to vote for X. \n",
    "\n",
    "What can we do to quantify the precision of that? E.g. 52 +- 2%\n",
    "\n",
    "\n",
    "## Example 2\n",
    "50 patients got a new pain-killer; 50 similar patients got an older drug. Mean self-reported pain scores were 4.1 for new drug and 4.5 for the old drug. \n",
    "\n",
    "How can we estimate the difference in the effect of the drugs?\n",
    "\n",
    "How can we quantify the precision of that estimate?\n",
    "\n",
    "Is it possible that the apparent difference is due to chance?\n",
    "\n",
    "## Statistical inference\n",
    "\n",
    "### Effect size\n",
    "Usually a single number, ideally comparable across studies. The most important!\n",
    "\n",
    "### Confidence interval (standard error)\n",
    "Quantifies the precision of the estimate. Second important.\n",
    "\n",
    "### p-value\n",
    "Indicates whether the effect might be due to a chance. Distant third.\n",
    "\n",
    "## New Stats book\n",
    "\n",
    "The New Statistics: Estimation for better research - Cumming, G. (2012)\n",
    "Movement for new statistics.\n",
    "\n",
    "## The problem\n",
    "\n",
    "Too many papers report p-values as if they were the most important part.\n",
    "\n",
    "They do not care for the effect size."
   ]
  },
  {
   "cell_type": "code",
   "execution_count": 2,
   "metadata": {
    "collapsed": true
   },
   "outputs": [],
   "source": [
    "import scipy.stats"
   ]
  },
  {
   "cell_type": "markdown",
   "metadata": {},
   "source": [
    "# 1. Effect size\n",
    "\n",
    "## Part 1\n",
    "\n",
    "To explore statistics that quantify effect size, we'll look at the difference in height between men and women. I used data from the Behavioral Risk Factor Surveillance System (BRFSS) to estimate the mean and standard deviation of height in cm for adult women and men in the U.S.\n",
    "\n",
    "I'll use scipy.stats.norm to represent the distributions. The result is an rv object (which stands for random variable)."
   ]
  },
  {
   "cell_type": "code",
   "execution_count": 5,
   "metadata": {
    "collapsed": false
   },
   "outputs": [],
   "source": [
    "mu1, sig1 = 178, 7.7\n",
    "male_height = scipy.stats.norm(mu1, sig1)"
   ]
  },
  {
   "cell_type": "code",
   "execution_count": null,
   "metadata": {
    "collapsed": true
   },
   "outputs": [],
   "source": []
  },
  {
   "cell_type": "code",
   "execution_count": null,
   "metadata": {
    "collapsed": true
   },
   "outputs": [],
   "source": []
  },
  {
   "cell_type": "code",
   "execution_count": null,
   "metadata": {
    "collapsed": true
   },
   "outputs": [],
   "source": []
  },
  {
   "cell_type": "code",
   "execution_count": null,
   "metadata": {
    "collapsed": true
   },
   "outputs": [],
   "source": []
  },
  {
   "cell_type": "code",
   "execution_count": null,
   "metadata": {
    "collapsed": true
   },
   "outputs": [],
   "source": []
  },
  {
   "cell_type": "code",
   "execution_count": null,
   "metadata": {
    "collapsed": true
   },
   "outputs": [],
   "source": []
  },
  {
   "cell_type": "code",
   "execution_count": null,
   "metadata": {
    "collapsed": true
   },
   "outputs": [],
   "source": []
  },
  {
   "cell_type": "code",
   "execution_count": null,
   "metadata": {
    "collapsed": true
   },
   "outputs": [],
   "source": []
  },
  {
   "cell_type": "code",
   "execution_count": null,
   "metadata": {
    "collapsed": true
   },
   "outputs": [],
   "source": []
  },
  {
   "cell_type": "code",
   "execution_count": null,
   "metadata": {
    "collapsed": true
   },
   "outputs": [],
   "source": []
  },
  {
   "cell_type": "code",
   "execution_count": null,
   "metadata": {
    "collapsed": true
   },
   "outputs": [],
   "source": []
  },
  {
   "cell_type": "code",
   "execution_count": null,
   "metadata": {
    "collapsed": true
   },
   "outputs": [],
   "source": []
  },
  {
   "cell_type": "code",
   "execution_count": null,
   "metadata": {
    "collapsed": true
   },
   "outputs": [],
   "source": []
  },
  {
   "cell_type": "code",
   "execution_count": null,
   "metadata": {
    "collapsed": true
   },
   "outputs": [],
   "source": []
  },
  {
   "cell_type": "code",
   "execution_count": null,
   "metadata": {
    "collapsed": true
   },
   "outputs": [],
   "source": []
  },
  {
   "cell_type": "code",
   "execution_count": null,
   "metadata": {
    "collapsed": true
   },
   "outputs": [],
   "source": []
  },
  {
   "cell_type": "code",
   "execution_count": null,
   "metadata": {
    "collapsed": true
   },
   "outputs": [],
   "source": []
  }
 ],
 "metadata": {
  "kernelspec": {
   "display_name": "Python 3",
   "language": "python",
   "name": "python3"
  },
  "language_info": {
   "codemirror_mode": {
    "name": "ipython",
    "version": 3
   },
   "file_extension": ".py",
   "mimetype": "text/x-python",
   "name": "python",
   "nbconvert_exporter": "python",
   "pygments_lexer": "ipython3",
   "version": "3.6.3"
  }
 },
 "nbformat": 4,
 "nbformat_minor": 2
}
